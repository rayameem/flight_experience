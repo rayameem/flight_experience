{
  "metadata": {
    "kernelspec": {
      "name": "python",
      "display_name": "Python (Pyodide)",
      "language": "python"
    },
    "language_info": {
      "codemirror_mode": {
        "name": "python",
        "version": 3
      },
      "file_extension": ".py",
      "mimetype": "text/x-python",
      "name": "python",
      "nbconvert_exporter": "python",
      "pygments_lexer": "ipython3",
      "version": "3.8"
    }
  },
  "nbformat_minor": 4,
  "nbformat": 4,
  "cells": [
    {
      "cell_type": "markdown",
      "source": " If a better in-flight entertainment experience leads to higher customer satisfaction.",
      "metadata": {}
    },
    {
      "cell_type": "markdown",
      "source": "Effective bionomial logistic regression",
      "metadata": {}
    },
    {
      "cell_type": "markdown",
      "source": "# Imports",
      "metadata": {}
    },
    {
      "cell_type": "code",
      "source": "import pandas as pd\nimport numpy as np\n\nfrom sklearn.preprocessing import OneHotEncoder\nfrom sklearn.model_selection import train_test_split\nfrom sklearn.linear_model import LogisticRegression\nimport sklearn.metrics as metrics\n\nimport matplotlib.pyplot as plt\n%pip install seaborn\nimport seaborn as sns\n\n\n",
      "metadata": {
        "trusted": true
      },
      "outputs": [],
      "execution_count": 98
    },
    {
      "cell_type": "code",
      "source": "df_original = pd.read_csv(r\"airline.csv\")",
      "metadata": {
        "trusted": true
      },
      "outputs": [],
      "execution_count": 99
    },
    {
      "cell_type": "code",
      "source": "df_original.head(10)",
      "metadata": {
        "trusted": true
      },
      "outputs": [
        {
          "execution_count": 100,
          "output_type": "execute_result",
          "data": {
            "text/plain": "  satisfaction   Customer Type  Age   Type of Travel     Class  \\\n0    satisfied  Loyal Customer   65  Personal Travel       Eco   \n1    satisfied  Loyal Customer   47  Personal Travel  Business   \n2    satisfied  Loyal Customer   15  Personal Travel       Eco   \n3    satisfied  Loyal Customer   60  Personal Travel       Eco   \n4    satisfied  Loyal Customer   70  Personal Travel       Eco   \n5    satisfied  Loyal Customer   30  Personal Travel       Eco   \n6    satisfied  Loyal Customer   66  Personal Travel       Eco   \n7    satisfied  Loyal Customer   10  Personal Travel       Eco   \n8    satisfied  Loyal Customer   56  Personal Travel  Business   \n9    satisfied  Loyal Customer   22  Personal Travel       Eco   \n\n   Flight Distance  Seat comfort  Departure/Arrival time convenient  \\\n0              265             0                                  0   \n1             2464             0                                  0   \n2             2138             0                                  0   \n3              623             0                                  0   \n4              354             0                                  0   \n5             1894             0                                  0   \n6              227             0                                  0   \n7             1812             0                                  0   \n8               73             0                                  0   \n9             1556             0                                  0   \n\n   Food and drink  Gate location  ...  Online support  Ease of Online booking  \\\n0               0              2  ...               2                       3   \n1               0              3  ...               2                       3   \n2               0              3  ...               2                       2   \n3               0              3  ...               3                       1   \n4               0              3  ...               4                       2   \n5               0              3  ...               2                       2   \n6               0              3  ...               5                       5   \n7               0              3  ...               2                       2   \n8               0              3  ...               5                       4   \n9               0              3  ...               2                       2   \n\n   On-board service  Leg room service  Baggage handling  Checkin service  \\\n0                 3                 0                 3                5   \n1                 4                 4                 4                2   \n2                 3                 3                 4                4   \n3                 1                 0                 1                4   \n4                 2                 0                 2                4   \n5                 5                 4                 5                5   \n6                 5                 0                 5                5   \n7                 3                 3                 4                5   \n8                 4                 0                 1                5   \n9                 2                 4                 5                3   \n\n   Cleanliness  Online boarding  Departure Delay in Minutes  \\\n0            3                2                           0   \n1            3                2                         310   \n2            4                2                           0   \n3            1                3                           0   \n4            2                5                           0   \n5            4                2                           0   \n6            5                3                          17   \n7            4                2                           0   \n8            4                4                           0   \n9            4                2                          30   \n\n   Arrival Delay in Minutes  \n0                       0.0  \n1                     305.0  \n2                       0.0  \n3                       0.0  \n4                       0.0  \n5                       0.0  \n6                      15.0  \n7                       0.0  \n8                       0.0  \n9                      26.0  \n\n[10 rows x 22 columns]",
            "text/html": "<div>\n<style scoped>\n    .dataframe tbody tr th:only-of-type {\n        vertical-align: middle;\n    }\n\n    .dataframe tbody tr th {\n        vertical-align: top;\n    }\n\n    .dataframe thead th {\n        text-align: right;\n    }\n</style>\n<table border=\"1\" class=\"dataframe\">\n  <thead>\n    <tr style=\"text-align: right;\">\n      <th></th>\n      <th>satisfaction</th>\n      <th>Customer Type</th>\n      <th>Age</th>\n      <th>Type of Travel</th>\n      <th>Class</th>\n      <th>Flight Distance</th>\n      <th>Seat comfort</th>\n      <th>Departure/Arrival time convenient</th>\n      <th>Food and drink</th>\n      <th>Gate location</th>\n      <th>...</th>\n      <th>Online support</th>\n      <th>Ease of Online booking</th>\n      <th>On-board service</th>\n      <th>Leg room service</th>\n      <th>Baggage handling</th>\n      <th>Checkin service</th>\n      <th>Cleanliness</th>\n      <th>Online boarding</th>\n      <th>Departure Delay in Minutes</th>\n      <th>Arrival Delay in Minutes</th>\n    </tr>\n  </thead>\n  <tbody>\n    <tr>\n      <th>0</th>\n      <td>satisfied</td>\n      <td>Loyal Customer</td>\n      <td>65</td>\n      <td>Personal Travel</td>\n      <td>Eco</td>\n      <td>265</td>\n      <td>0</td>\n      <td>0</td>\n      <td>0</td>\n      <td>2</td>\n      <td>...</td>\n      <td>2</td>\n      <td>3</td>\n      <td>3</td>\n      <td>0</td>\n      <td>3</td>\n      <td>5</td>\n      <td>3</td>\n      <td>2</td>\n      <td>0</td>\n      <td>0.0</td>\n    </tr>\n    <tr>\n      <th>1</th>\n      <td>satisfied</td>\n      <td>Loyal Customer</td>\n      <td>47</td>\n      <td>Personal Travel</td>\n      <td>Business</td>\n      <td>2464</td>\n      <td>0</td>\n      <td>0</td>\n      <td>0</td>\n      <td>3</td>\n      <td>...</td>\n      <td>2</td>\n      <td>3</td>\n      <td>4</td>\n      <td>4</td>\n      <td>4</td>\n      <td>2</td>\n      <td>3</td>\n      <td>2</td>\n      <td>310</td>\n      <td>305.0</td>\n    </tr>\n    <tr>\n      <th>2</th>\n      <td>satisfied</td>\n      <td>Loyal Customer</td>\n      <td>15</td>\n      <td>Personal Travel</td>\n      <td>Eco</td>\n      <td>2138</td>\n      <td>0</td>\n      <td>0</td>\n      <td>0</td>\n      <td>3</td>\n      <td>...</td>\n      <td>2</td>\n      <td>2</td>\n      <td>3</td>\n      <td>3</td>\n      <td>4</td>\n      <td>4</td>\n      <td>4</td>\n      <td>2</td>\n      <td>0</td>\n      <td>0.0</td>\n    </tr>\n    <tr>\n      <th>3</th>\n      <td>satisfied</td>\n      <td>Loyal Customer</td>\n      <td>60</td>\n      <td>Personal Travel</td>\n      <td>Eco</td>\n      <td>623</td>\n      <td>0</td>\n      <td>0</td>\n      <td>0</td>\n      <td>3</td>\n      <td>...</td>\n      <td>3</td>\n      <td>1</td>\n      <td>1</td>\n      <td>0</td>\n      <td>1</td>\n      <td>4</td>\n      <td>1</td>\n      <td>3</td>\n      <td>0</td>\n      <td>0.0</td>\n    </tr>\n    <tr>\n      <th>4</th>\n      <td>satisfied</td>\n      <td>Loyal Customer</td>\n      <td>70</td>\n      <td>Personal Travel</td>\n      <td>Eco</td>\n      <td>354</td>\n      <td>0</td>\n      <td>0</td>\n      <td>0</td>\n      <td>3</td>\n      <td>...</td>\n      <td>4</td>\n      <td>2</td>\n      <td>2</td>\n      <td>0</td>\n      <td>2</td>\n      <td>4</td>\n      <td>2</td>\n      <td>5</td>\n      <td>0</td>\n      <td>0.0</td>\n    </tr>\n    <tr>\n      <th>5</th>\n      <td>satisfied</td>\n      <td>Loyal Customer</td>\n      <td>30</td>\n      <td>Personal Travel</td>\n      <td>Eco</td>\n      <td>1894</td>\n      <td>0</td>\n      <td>0</td>\n      <td>0</td>\n      <td>3</td>\n      <td>...</td>\n      <td>2</td>\n      <td>2</td>\n      <td>5</td>\n      <td>4</td>\n      <td>5</td>\n      <td>5</td>\n      <td>4</td>\n      <td>2</td>\n      <td>0</td>\n      <td>0.0</td>\n    </tr>\n    <tr>\n      <th>6</th>\n      <td>satisfied</td>\n      <td>Loyal Customer</td>\n      <td>66</td>\n      <td>Personal Travel</td>\n      <td>Eco</td>\n      <td>227</td>\n      <td>0</td>\n      <td>0</td>\n      <td>0</td>\n      <td>3</td>\n      <td>...</td>\n      <td>5</td>\n      <td>5</td>\n      <td>5</td>\n      <td>0</td>\n      <td>5</td>\n      <td>5</td>\n      <td>5</td>\n      <td>3</td>\n      <td>17</td>\n      <td>15.0</td>\n    </tr>\n    <tr>\n      <th>7</th>\n      <td>satisfied</td>\n      <td>Loyal Customer</td>\n      <td>10</td>\n      <td>Personal Travel</td>\n      <td>Eco</td>\n      <td>1812</td>\n      <td>0</td>\n      <td>0</td>\n      <td>0</td>\n      <td>3</td>\n      <td>...</td>\n      <td>2</td>\n      <td>2</td>\n      <td>3</td>\n      <td>3</td>\n      <td>4</td>\n      <td>5</td>\n      <td>4</td>\n      <td>2</td>\n      <td>0</td>\n      <td>0.0</td>\n    </tr>\n    <tr>\n      <th>8</th>\n      <td>satisfied</td>\n      <td>Loyal Customer</td>\n      <td>56</td>\n      <td>Personal Travel</td>\n      <td>Business</td>\n      <td>73</td>\n      <td>0</td>\n      <td>0</td>\n      <td>0</td>\n      <td>3</td>\n      <td>...</td>\n      <td>5</td>\n      <td>4</td>\n      <td>4</td>\n      <td>0</td>\n      <td>1</td>\n      <td>5</td>\n      <td>4</td>\n      <td>4</td>\n      <td>0</td>\n      <td>0.0</td>\n    </tr>\n    <tr>\n      <th>9</th>\n      <td>satisfied</td>\n      <td>Loyal Customer</td>\n      <td>22</td>\n      <td>Personal Travel</td>\n      <td>Eco</td>\n      <td>1556</td>\n      <td>0</td>\n      <td>0</td>\n      <td>0</td>\n      <td>3</td>\n      <td>...</td>\n      <td>2</td>\n      <td>2</td>\n      <td>2</td>\n      <td>4</td>\n      <td>5</td>\n      <td>3</td>\n      <td>4</td>\n      <td>2</td>\n      <td>30</td>\n      <td>26.0</td>\n    </tr>\n  </tbody>\n</table>\n<p>10 rows × 22 columns</p>\n</div>"
          },
          "metadata": {}
        }
      ],
      "execution_count": 100
    },
    {
      "cell_type": "markdown",
      "source": "# EDA",
      "metadata": {}
    },
    {
      "cell_type": "code",
      "source": "df_original.dtypes",
      "metadata": {
        "trusted": true
      },
      "outputs": [
        {
          "execution_count": 101,
          "output_type": "execute_result",
          "data": {
            "text/plain": "satisfaction                          object\nCustomer Type                         object\nAge                                    int64\nType of Travel                        object\nClass                                 object\nFlight Distance                        int64\nSeat comfort                           int64\nDeparture/Arrival time convenient      int64\nFood and drink                         int64\nGate location                          int64\nInflight wifi service                  int64\nInflight entertainment                 int64\nOnline support                         int64\nEase of Online booking                 int64\nOn-board service                       int64\nLeg room service                       int64\nBaggage handling                       int64\nCheckin service                        int64\nCleanliness                            int64\nOnline boarding                        int64\nDeparture Delay in Minutes             int64\nArrival Delay in Minutes             float64\ndtype: object"
          },
          "metadata": {}
        }
      ],
      "execution_count": 101
    },
    {
      "cell_type": "code",
      "source": "df_original[\"satisfaction\"].value_counts(dropna=False)",
      "metadata": {
        "trusted": true
      },
      "outputs": [
        {
          "execution_count": 102,
          "output_type": "execute_result",
          "data": {
            "text/plain": "satisfaction\nsatisfied       71087\ndissatisfied    58793\nName: count, dtype: int64"
          },
          "metadata": {}
        }
      ],
      "execution_count": 102
    },
    {
      "cell_type": "code",
      "source": "df_original.isnull().sum()",
      "metadata": {
        "trusted": true
      },
      "outputs": [
        {
          "execution_count": 103,
          "output_type": "execute_result",
          "data": {
            "text/plain": "satisfaction                           0\nCustomer Type                          0\nAge                                    0\nType of Travel                         0\nClass                                  0\nFlight Distance                        0\nSeat comfort                           0\nDeparture/Arrival time convenient      0\nFood and drink                         0\nGate location                          0\nInflight wifi service                  0\nInflight entertainment                 0\nOnline support                         0\nEase of Online booking                 0\nOn-board service                       0\nLeg room service                       0\nBaggage handling                       0\nCheckin service                        0\nCleanliness                            0\nOnline boarding                        0\nDeparture Delay in Minutes             0\nArrival Delay in Minutes             393\ndtype: int64"
          },
          "metadata": {}
        }
      ],
      "execution_count": 103
    },
    {
      "cell_type": "code",
      "source": "df_subset = df_original.dropna(axis=0).reset_index(drop=True)",
      "metadata": {
        "trusted": true
      },
      "outputs": [],
      "execution_count": 104
    },
    {
      "cell_type": "code",
      "source": "df_subset = df_subset.astype({\"Inflight entertainment\": float})",
      "metadata": {
        "trusted": true
      },
      "outputs": [],
      "execution_count": 105
    },
    {
      "cell_type": "code",
      "source": "df_subset[\"satisfaction\"] = OneHotEncoder(drop=\"first\").fit_transform(df_subset[[\"satisfaction\"]]).toarray()",
      "metadata": {
        "trusted": true
      },
      "outputs": [],
      "execution_count": 106
    },
    {
      "cell_type": "code",
      "source": "df_subset.head(10)",
      "metadata": {
        "trusted": true
      },
      "outputs": [
        {
          "execution_count": 107,
          "output_type": "execute_result",
          "data": {
            "text/plain": "   satisfaction   Customer Type  Age   Type of Travel     Class  \\\n0           1.0  Loyal Customer   65  Personal Travel       Eco   \n1           1.0  Loyal Customer   47  Personal Travel  Business   \n2           1.0  Loyal Customer   15  Personal Travel       Eco   \n3           1.0  Loyal Customer   60  Personal Travel       Eco   \n4           1.0  Loyal Customer   70  Personal Travel       Eco   \n5           1.0  Loyal Customer   30  Personal Travel       Eco   \n6           1.0  Loyal Customer   66  Personal Travel       Eco   \n7           1.0  Loyal Customer   10  Personal Travel       Eco   \n8           1.0  Loyal Customer   56  Personal Travel  Business   \n9           1.0  Loyal Customer   22  Personal Travel       Eco   \n\n   Flight Distance  Seat comfort  Departure/Arrival time convenient  \\\n0              265             0                                  0   \n1             2464             0                                  0   \n2             2138             0                                  0   \n3              623             0                                  0   \n4              354             0                                  0   \n5             1894             0                                  0   \n6              227             0                                  0   \n7             1812             0                                  0   \n8               73             0                                  0   \n9             1556             0                                  0   \n\n   Food and drink  Gate location  ...  Online support  Ease of Online booking  \\\n0               0              2  ...               2                       3   \n1               0              3  ...               2                       3   \n2               0              3  ...               2                       2   \n3               0              3  ...               3                       1   \n4               0              3  ...               4                       2   \n5               0              3  ...               2                       2   \n6               0              3  ...               5                       5   \n7               0              3  ...               2                       2   \n8               0              3  ...               5                       4   \n9               0              3  ...               2                       2   \n\n   On-board service  Leg room service  Baggage handling  Checkin service  \\\n0                 3                 0                 3                5   \n1                 4                 4                 4                2   \n2                 3                 3                 4                4   \n3                 1                 0                 1                4   \n4                 2                 0                 2                4   \n5                 5                 4                 5                5   \n6                 5                 0                 5                5   \n7                 3                 3                 4                5   \n8                 4                 0                 1                5   \n9                 2                 4                 5                3   \n\n   Cleanliness  Online boarding  Departure Delay in Minutes  \\\n0            3                2                           0   \n1            3                2                         310   \n2            4                2                           0   \n3            1                3                           0   \n4            2                5                           0   \n5            4                2                           0   \n6            5                3                          17   \n7            4                2                           0   \n8            4                4                           0   \n9            4                2                          30   \n\n   Arrival Delay in Minutes  \n0                       0.0  \n1                     305.0  \n2                       0.0  \n3                       0.0  \n4                       0.0  \n5                       0.0  \n6                      15.0  \n7                       0.0  \n8                       0.0  \n9                      26.0  \n\n[10 rows x 22 columns]",
            "text/html": "<div>\n<style scoped>\n    .dataframe tbody tr th:only-of-type {\n        vertical-align: middle;\n    }\n\n    .dataframe tbody tr th {\n        vertical-align: top;\n    }\n\n    .dataframe thead th {\n        text-align: right;\n    }\n</style>\n<table border=\"1\" class=\"dataframe\">\n  <thead>\n    <tr style=\"text-align: right;\">\n      <th></th>\n      <th>satisfaction</th>\n      <th>Customer Type</th>\n      <th>Age</th>\n      <th>Type of Travel</th>\n      <th>Class</th>\n      <th>Flight Distance</th>\n      <th>Seat comfort</th>\n      <th>Departure/Arrival time convenient</th>\n      <th>Food and drink</th>\n      <th>Gate location</th>\n      <th>...</th>\n      <th>Online support</th>\n      <th>Ease of Online booking</th>\n      <th>On-board service</th>\n      <th>Leg room service</th>\n      <th>Baggage handling</th>\n      <th>Checkin service</th>\n      <th>Cleanliness</th>\n      <th>Online boarding</th>\n      <th>Departure Delay in Minutes</th>\n      <th>Arrival Delay in Minutes</th>\n    </tr>\n  </thead>\n  <tbody>\n    <tr>\n      <th>0</th>\n      <td>1.0</td>\n      <td>Loyal Customer</td>\n      <td>65</td>\n      <td>Personal Travel</td>\n      <td>Eco</td>\n      <td>265</td>\n      <td>0</td>\n      <td>0</td>\n      <td>0</td>\n      <td>2</td>\n      <td>...</td>\n      <td>2</td>\n      <td>3</td>\n      <td>3</td>\n      <td>0</td>\n      <td>3</td>\n      <td>5</td>\n      <td>3</td>\n      <td>2</td>\n      <td>0</td>\n      <td>0.0</td>\n    </tr>\n    <tr>\n      <th>1</th>\n      <td>1.0</td>\n      <td>Loyal Customer</td>\n      <td>47</td>\n      <td>Personal Travel</td>\n      <td>Business</td>\n      <td>2464</td>\n      <td>0</td>\n      <td>0</td>\n      <td>0</td>\n      <td>3</td>\n      <td>...</td>\n      <td>2</td>\n      <td>3</td>\n      <td>4</td>\n      <td>4</td>\n      <td>4</td>\n      <td>2</td>\n      <td>3</td>\n      <td>2</td>\n      <td>310</td>\n      <td>305.0</td>\n    </tr>\n    <tr>\n      <th>2</th>\n      <td>1.0</td>\n      <td>Loyal Customer</td>\n      <td>15</td>\n      <td>Personal Travel</td>\n      <td>Eco</td>\n      <td>2138</td>\n      <td>0</td>\n      <td>0</td>\n      <td>0</td>\n      <td>3</td>\n      <td>...</td>\n      <td>2</td>\n      <td>2</td>\n      <td>3</td>\n      <td>3</td>\n      <td>4</td>\n      <td>4</td>\n      <td>4</td>\n      <td>2</td>\n      <td>0</td>\n      <td>0.0</td>\n    </tr>\n    <tr>\n      <th>3</th>\n      <td>1.0</td>\n      <td>Loyal Customer</td>\n      <td>60</td>\n      <td>Personal Travel</td>\n      <td>Eco</td>\n      <td>623</td>\n      <td>0</td>\n      <td>0</td>\n      <td>0</td>\n      <td>3</td>\n      <td>...</td>\n      <td>3</td>\n      <td>1</td>\n      <td>1</td>\n      <td>0</td>\n      <td>1</td>\n      <td>4</td>\n      <td>1</td>\n      <td>3</td>\n      <td>0</td>\n      <td>0.0</td>\n    </tr>\n    <tr>\n      <th>4</th>\n      <td>1.0</td>\n      <td>Loyal Customer</td>\n      <td>70</td>\n      <td>Personal Travel</td>\n      <td>Eco</td>\n      <td>354</td>\n      <td>0</td>\n      <td>0</td>\n      <td>0</td>\n      <td>3</td>\n      <td>...</td>\n      <td>4</td>\n      <td>2</td>\n      <td>2</td>\n      <td>0</td>\n      <td>2</td>\n      <td>4</td>\n      <td>2</td>\n      <td>5</td>\n      <td>0</td>\n      <td>0.0</td>\n    </tr>\n    <tr>\n      <th>5</th>\n      <td>1.0</td>\n      <td>Loyal Customer</td>\n      <td>30</td>\n      <td>Personal Travel</td>\n      <td>Eco</td>\n      <td>1894</td>\n      <td>0</td>\n      <td>0</td>\n      <td>0</td>\n      <td>3</td>\n      <td>...</td>\n      <td>2</td>\n      <td>2</td>\n      <td>5</td>\n      <td>4</td>\n      <td>5</td>\n      <td>5</td>\n      <td>4</td>\n      <td>2</td>\n      <td>0</td>\n      <td>0.0</td>\n    </tr>\n    <tr>\n      <th>6</th>\n      <td>1.0</td>\n      <td>Loyal Customer</td>\n      <td>66</td>\n      <td>Personal Travel</td>\n      <td>Eco</td>\n      <td>227</td>\n      <td>0</td>\n      <td>0</td>\n      <td>0</td>\n      <td>3</td>\n      <td>...</td>\n      <td>5</td>\n      <td>5</td>\n      <td>5</td>\n      <td>0</td>\n      <td>5</td>\n      <td>5</td>\n      <td>5</td>\n      <td>3</td>\n      <td>17</td>\n      <td>15.0</td>\n    </tr>\n    <tr>\n      <th>7</th>\n      <td>1.0</td>\n      <td>Loyal Customer</td>\n      <td>10</td>\n      <td>Personal Travel</td>\n      <td>Eco</td>\n      <td>1812</td>\n      <td>0</td>\n      <td>0</td>\n      <td>0</td>\n      <td>3</td>\n      <td>...</td>\n      <td>2</td>\n      <td>2</td>\n      <td>3</td>\n      <td>3</td>\n      <td>4</td>\n      <td>5</td>\n      <td>4</td>\n      <td>2</td>\n      <td>0</td>\n      <td>0.0</td>\n    </tr>\n    <tr>\n      <th>8</th>\n      <td>1.0</td>\n      <td>Loyal Customer</td>\n      <td>56</td>\n      <td>Personal Travel</td>\n      <td>Business</td>\n      <td>73</td>\n      <td>0</td>\n      <td>0</td>\n      <td>0</td>\n      <td>3</td>\n      <td>...</td>\n      <td>5</td>\n      <td>4</td>\n      <td>4</td>\n      <td>0</td>\n      <td>1</td>\n      <td>5</td>\n      <td>4</td>\n      <td>4</td>\n      <td>0</td>\n      <td>0.0</td>\n    </tr>\n    <tr>\n      <th>9</th>\n      <td>1.0</td>\n      <td>Loyal Customer</td>\n      <td>22</td>\n      <td>Personal Travel</td>\n      <td>Eco</td>\n      <td>1556</td>\n      <td>0</td>\n      <td>0</td>\n      <td>0</td>\n      <td>3</td>\n      <td>...</td>\n      <td>2</td>\n      <td>2</td>\n      <td>2</td>\n      <td>4</td>\n      <td>5</td>\n      <td>3</td>\n      <td>4</td>\n      <td>2</td>\n      <td>30</td>\n      <td>26.0</td>\n    </tr>\n  </tbody>\n</table>\n<p>10 rows × 22 columns</p>\n</div>"
          },
          "metadata": {}
        }
      ],
      "execution_count": 107
    },
    {
      "cell_type": "code",
      "source": "df_subset[\"Inflight entertainment\"].head()",
      "metadata": {
        "trusted": true
      },
      "outputs": [
        {
          "execution_count": 108,
          "output_type": "execute_result",
          "data": {
            "text/plain": "0    4.0\n1    2.0\n2    0.0\n3    4.0\n4    3.0\nName: Inflight entertainment, dtype: float64"
          },
          "metadata": {}
        }
      ],
      "execution_count": 108
    },
    {
      "cell_type": "code",
      "source": "X = df_subset[[\"Inflight entertainment\"]]\ny = df_subset[\"satisfaction\"]\n\nX_train, X_test, y_train, y_test = train_test_split(X,y, test_size=0.3, random_state=42)",
      "metadata": {
        "trusted": true
      },
      "outputs": [],
      "execution_count": 109
    },
    {
      "cell_type": "markdown",
      "source": "# Model building",
      "metadata": {}
    },
    {
      "cell_type": "code",
      "source": "df_subset.columns = df_subset.columns.str.replace(' ', '_')",
      "metadata": {
        "trusted": true
      },
      "outputs": [],
      "execution_count": 110
    },
    {
      "cell_type": "code",
      "source": "ols_data = df_subset[[\"Inflight_entertainment\", \"satisfaction\"]]",
      "metadata": {
        "trusted": true
      },
      "outputs": [],
      "execution_count": 111
    },
    {
      "cell_type": "code",
      "source": "ols_formula = \"satisfaction ~ Inflight_entertainment\"",
      "metadata": {
        "trusted": true
      },
      "outputs": [],
      "execution_count": 112
    },
    {
      "cell_type": "code",
      "source": "ols_data.head()",
      "metadata": {
        "trusted": true
      },
      "outputs": [
        {
          "execution_count": 113,
          "output_type": "execute_result",
          "data": {
            "text/plain": "   Inflight_entertainment  satisfaction\n0                     4.0           1.0\n1                     2.0           1.0\n2                     0.0           1.0\n3                     4.0           1.0\n4                     3.0           1.0",
            "text/html": "<div>\n<style scoped>\n    .dataframe tbody tr th:only-of-type {\n        vertical-align: middle;\n    }\n\n    .dataframe tbody tr th {\n        vertical-align: top;\n    }\n\n    .dataframe thead th {\n        text-align: right;\n    }\n</style>\n<table border=\"1\" class=\"dataframe\">\n  <thead>\n    <tr style=\"text-align: right;\">\n      <th></th>\n      <th>Inflight_entertainment</th>\n      <th>satisfaction</th>\n    </tr>\n  </thead>\n  <tbody>\n    <tr>\n      <th>0</th>\n      <td>4.0</td>\n      <td>1.0</td>\n    </tr>\n    <tr>\n      <th>1</th>\n      <td>2.0</td>\n      <td>1.0</td>\n    </tr>\n    <tr>\n      <th>2</th>\n      <td>0.0</td>\n      <td>1.0</td>\n    </tr>\n    <tr>\n      <th>3</th>\n      <td>4.0</td>\n      <td>1.0</td>\n    </tr>\n    <tr>\n      <th>4</th>\n      <td>3.0</td>\n      <td>1.0</td>\n    </tr>\n  </tbody>\n</table>\n</div>"
          },
          "metadata": {}
        }
      ],
      "execution_count": 113
    },
    {
      "cell_type": "code",
      "source": "from statsmodels.formula.api import ols",
      "metadata": {
        "trusted": true
      },
      "outputs": [],
      "execution_count": 114
    },
    {
      "cell_type": "code",
      "source": "OLS = ols(formula = ols_formula, data = ols_data)\nmodel = OLS.fit()\nmodel.summary()",
      "metadata": {
        "trusted": true
      },
      "outputs": [
        {
          "execution_count": 115,
          "output_type": "execute_result",
          "data": {
            "text/plain": "<class 'statsmodels.iolib.summary.Summary'>\n\"\"\"\n                            OLS Regression Results                            \n==============================================================================\nDep. Variable:           satisfaction   R-squared:                       0.274\nModel:                            OLS   Adj. R-squared:                  0.274\nMethod:                 Least Squares   F-statistic:                 4.885e+04\nDate:                Sat, 17 Aug 2024   Prob (F-statistic):               0.00\nTime:                        00:18:13   Log-Likelihood:                -72673.\nNo. Observations:              129487   AIC:                         1.453e+05\nDf Residuals:                  129485   BIC:                         1.454e+05\nDf Model:                           1                                         \nCovariance Type:            nonrobust                                         \n==========================================================================================\n                             coef    std err          t      P>|t|      [0.025      0.975]\n------------------------------------------------------------------------------------------\nIntercept                 -0.1075      0.003    -33.710      0.000      -0.114      -0.101\nInflight_entertainment     0.1935      0.001    221.013      0.000       0.192       0.195\n==============================================================================\nOmnibus:                     2688.372   Durbin-Watson:                   1.043\nProb(Omnibus):                  0.000   Jarque-Bera (JB):             1537.833\nSkew:                           0.091   Prob(JB):                         0.00\nKurtosis:                       2.498   Cond. No.                         10.5\n==============================================================================\n\nNotes:\n[1] Standard Errors assume that the covariance matrix of the errors is correctly specified.\n\"\"\"",
            "text/html": "<table class=\"simpletable\">\n<caption>OLS Regression Results</caption>\n<tr>\n  <th>Dep. Variable:</th>      <td>satisfaction</td>   <th>  R-squared:         </th> <td>   0.274</td> \n</tr>\n<tr>\n  <th>Model:</th>                   <td>OLS</td>       <th>  Adj. R-squared:    </th> <td>   0.274</td> \n</tr>\n<tr>\n  <th>Method:</th>             <td>Least Squares</td>  <th>  F-statistic:       </th> <td>4.885e+04</td>\n</tr>\n<tr>\n  <th>Date:</th>             <td>Sat, 17 Aug 2024</td> <th>  Prob (F-statistic):</th>  <td>  0.00</td>  \n</tr>\n<tr>\n  <th>Time:</th>                 <td>00:18:13</td>     <th>  Log-Likelihood:    </th> <td> -72673.</td> \n</tr>\n<tr>\n  <th>No. Observations:</th>      <td>129487</td>      <th>  AIC:               </th> <td>1.453e+05</td>\n</tr>\n<tr>\n  <th>Df Residuals:</th>          <td>129485</td>      <th>  BIC:               </th> <td>1.454e+05</td>\n</tr>\n<tr>\n  <th>Df Model:</th>              <td>     1</td>      <th>                     </th>     <td> </td>    \n</tr>\n<tr>\n  <th>Covariance Type:</th>      <td>nonrobust</td>    <th>                     </th>     <td> </td>    \n</tr>\n</table>\n<table class=\"simpletable\">\n<tr>\n             <td></td>               <th>coef</th>     <th>std err</th>      <th>t</th>      <th>P>|t|</th>  <th>[0.025</th>    <th>0.975]</th>  \n</tr>\n<tr>\n  <th>Intercept</th>              <td>   -0.1075</td> <td>    0.003</td> <td>  -33.710</td> <td> 0.000</td> <td>   -0.114</td> <td>   -0.101</td>\n</tr>\n<tr>\n  <th>Inflight_entertainment</th> <td>    0.1935</td> <td>    0.001</td> <td>  221.013</td> <td> 0.000</td> <td>    0.192</td> <td>    0.195</td>\n</tr>\n</table>\n<table class=\"simpletable\">\n<tr>\n  <th>Omnibus:</th>       <td>2688.372</td> <th>  Durbin-Watson:     </th> <td>   1.043</td>\n</tr>\n<tr>\n  <th>Prob(Omnibus):</th>  <td> 0.000</td>  <th>  Jarque-Bera (JB):  </th> <td>1537.833</td>\n</tr>\n<tr>\n  <th>Skew:</th>           <td> 0.091</td>  <th>  Prob(JB):          </th> <td>    0.00</td>\n</tr>\n<tr>\n  <th>Kurtosis:</th>       <td> 2.498</td>  <th>  Cond. No.          </th> <td>    10.5</td>\n</tr>\n</table><br/><br/>Notes:<br/>[1] Standard Errors assume that the covariance matrix of the errors is correctly specified.",
            "text/latex": "\\begin{center}\n\\begin{tabular}{lclc}\n\\toprule\n\\textbf{Dep. Variable:}          &   satisfaction   & \\textbf{  R-squared:         } &     0.274   \\\\\n\\textbf{Model:}                  &       OLS        & \\textbf{  Adj. R-squared:    } &     0.274   \\\\\n\\textbf{Method:}                 &  Least Squares   & \\textbf{  F-statistic:       } & 4.885e+04   \\\\\n\\textbf{Date:}                   & Sat, 17 Aug 2024 & \\textbf{  Prob (F-statistic):} &     0.00    \\\\\n\\textbf{Time:}                   &     00:18:13     & \\textbf{  Log-Likelihood:    } &   -72673.   \\\\\n\\textbf{No. Observations:}       &      129487      & \\textbf{  AIC:               } & 1.453e+05   \\\\\n\\textbf{Df Residuals:}           &      129485      & \\textbf{  BIC:               } & 1.454e+05   \\\\\n\\textbf{Df Model:}               &           1      & \\textbf{                     } &             \\\\\n\\textbf{Covariance Type:}        &    nonrobust     & \\textbf{                     } &             \\\\\n\\bottomrule\n\\end{tabular}\n\\begin{tabular}{lcccccc}\n                                 & \\textbf{coef} & \\textbf{std err} & \\textbf{t} & \\textbf{P$> |$t$|$} & \\textbf{[0.025} & \\textbf{0.975]}  \\\\\n\\midrule\n\\textbf{Intercept}               &      -0.1075  &        0.003     &   -33.710  &         0.000        &       -0.114    &       -0.101     \\\\\n\\textbf{Inflight\\_entertainment} &       0.1935  &        0.001     &   221.013  &         0.000        &        0.192    &        0.195     \\\\\n\\bottomrule\n\\end{tabular}\n\\begin{tabular}{lclc}\n\\textbf{Omnibus:}       & 2688.372 & \\textbf{  Durbin-Watson:     } &    1.043  \\\\\n\\textbf{Prob(Omnibus):} &   0.000  & \\textbf{  Jarque-Bera (JB):  } & 1537.833  \\\\\n\\textbf{Skew:}          &   0.091  & \\textbf{  Prob(JB):          } &     0.00  \\\\\n\\textbf{Kurtosis:}      &   2.498  & \\textbf{  Cond. No.          } &     10.5  \\\\\n\\bottomrule\n\\end{tabular}\n%\\caption{OLS Regression Results}\n\\end{center}\n\nNotes: \\newline\n [1] Standard Errors assume that the covariance matrix of the errors is correctly specified."
          },
          "metadata": {}
        }
      ],
      "execution_count": 115
    },
    {
      "cell_type": "code",
      "source": "clf = LogisticRegression().fit(X_train,y_train)",
      "metadata": {
        "trusted": true
      },
      "outputs": [],
      "execution_count": 116
    },
    {
      "cell_type": "code",
      "source": "clf.coef_",
      "metadata": {
        "trusted": true
      },
      "outputs": [
        {
          "execution_count": 117,
          "output_type": "execute_result",
          "data": {
            "text/plain": "array([[0.99752883]])"
          },
          "metadata": {}
        }
      ],
      "execution_count": 117
    },
    {
      "cell_type": "code",
      "source": "clf.intercept_",
      "metadata": {
        "trusted": true
      },
      "outputs": [
        {
          "execution_count": 118,
          "output_type": "execute_result",
          "data": {
            "text/plain": "array([-3.19359054])"
          },
          "metadata": {}
        }
      ],
      "execution_count": 118
    },
    {
      "cell_type": "code",
      "source": "import statsmodels.api as sm\n\ndf_subset['satisfaction'] = df_subset['satisfaction'].astype(int)\n\nX = sm.add_constant(df_subset['Inflight_entertainment'])\ny = df_subset['satisfaction']\n\nmodel = sm.Logit(y, X).fit()\n\nplt.scatter(df_subset['Inflight_entertainment'], df_subset['satisfaction'])\n\nx_values = np.linspace(df_subset['Inflight_entertainment'].min(), df_subset['Inflight_entertainment'].max(), 100)\ny_predicted = model.predict(sm.add_constant(x_values))\nplt.plot(x_values, y_predicted)\n\nplt.xlabel('Inflight_entertainment')\nplt.ylabel('Satisfaction')\nplt.show()",
      "metadata": {
        "trusted": true
      },
      "outputs": [
        {
          "name": "stdout",
          "text": "Optimization terminated successfully.\n         Current function value: 0.535888\n         Iterations 6\n",
          "output_type": "stream"
        },
        {
          "output_type": "display_data",
          "data": {
            "text/plain": "<Figure size 640x480 with 1 Axes>",
            "image/png": "[encoded data removed]"
          },
          "metadata": {}
        }
      ],
      "execution_count": 120
    },
    {
      "cell_type": "markdown",
      "source": "# Results and Evaluation",
      "metadata": {}
    },
    {
      "cell_type": "code",
      "source": "y_pred = clf.predict(X_test)",
      "metadata": {
        "trusted": true
      },
      "outputs": [],
      "execution_count": 121
    },
    {
      "cell_type": "code",
      "source": "print(y_pred)",
      "metadata": {
        "trusted": true
      },
      "outputs": [
        {
          "name": "stdout",
          "text": "[1. 0. 0. ... 0. 0. 0.]\n",
          "output_type": "stream"
        }
      ],
      "execution_count": 122
    },
    {
      "cell_type": "code",
      "source": "clf.predict_proba(X_test)",
      "metadata": {
        "trusted": true
      },
      "outputs": [
        {
          "execution_count": 123,
          "output_type": "execute_result",
          "data": {
            "text/plain": "array([[0.14257646, 0.85742354],\n       [0.55008251, 0.44991749],\n       [0.89989529, 0.10010471],\n       ...,\n       [0.89989529, 0.10010471],\n       [0.76826369, 0.23173631],\n       [0.55008251, 0.44991749]])"
          },
          "metadata": {}
        }
      ],
      "execution_count": 123
    },
    {
      "cell_type": "code",
      "source": "clf.predict(X_test)",
      "metadata": {
        "trusted": true
      },
      "outputs": [
        {
          "execution_count": 124,
          "output_type": "execute_result",
          "data": {
            "text/plain": "array([1., 0., 0., ..., 0., 0., 0.])"
          },
          "metadata": {}
        }
      ],
      "execution_count": 124
    },
    {
      "cell_type": "code",
      "source": "print(\"accuarcy:\", \"%.6f\" % metrics.accuracy_score(y_test,y_pred))\nprint(\"precision:\", \"%.6f\" % metrics.precision_score(y_test,y_pred))\nprint(\"recall:\", \"%.6f\" % metrics.recall_score(y_test,y_pred))\nprint(\"F1 Score:\", \"%.6f\" % metrics.f1_score(y_test,y_pred))",
      "metadata": {
        "trusted": true
      },
      "outputs": [
        {
          "name": "stdout",
          "text": "accuarcy: 0.801529\nprecision: 0.816142\nrecall: 0.821530\nF1 Score: 0.818827\n",
          "output_type": "stream"
        }
      ],
      "execution_count": 125
    },
    {
      "cell_type": "code",
      "source": "cm = metrics.confusion_matrix (y_test,y_pred, labels = clf.classes_)\ndisp = metrics.ConfusionMatrixDisplay (confusion_matrix = cm, display_labels= clf.classes_)\ndisp.plot()",
      "metadata": {
        "trusted": true
      },
      "outputs": [
        {
          "execution_count": 126,
          "output_type": "execute_result",
          "data": {
            "text/plain": "<sklearn.metrics._plot.confusion_matrix.ConfusionMatrixDisplay at 0x260114d8>"
          },
          "metadata": {}
        },
        {
          "output_type": "display_data",
          "data": {
            "text/plain": "<Figure size 640x480 with 2 Axes>",
            "image/png": "[encoded data removed]"
          },
          "metadata": {}
        }
      ],
      "execution_count": 126
    },
    {
      "cell_type": "code",
      "source": "",
      "metadata": {
        "trusted": true
      },
      "outputs": [],
      "execution_count": null
    }
  ]
}